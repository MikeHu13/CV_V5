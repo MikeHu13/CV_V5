{
  "nbformat": 4,
  "nbformat_minor": 0,
  "metadata": {
    "colab": {
      "name": "Assignment1.ipynb",
      "provenance": [],
      "collapsed_sections": [],
      "authorship_tag": "ABX9TyOOiakflhNno1GHKZ0j5dNL",
      "include_colab_link": true
    },
    "kernelspec": {
      "name": "python3",
      "display_name": "Python 3"
    },
    "language_info": {
      "name": "python"
    }
  },
  "cells": [
    {
      "cell_type": "markdown",
      "metadata": {
        "id": "view-in-github",
        "colab_type": "text"
      },
      "source": [
        "<a href=\"https://colab.research.google.com/github/MikeHu13/CV_V5/blob/main/Assignment1.ipynb\" target=\"_parent\"><img src=\"https://colab.research.google.com/assets/colab-badge.svg\" alt=\"Open In Colab\"/></a>"
      ]
    },
    {
      "cell_type": "code",
      "metadata": {
        "id": "Lt9R8joLOD3V"
      },
      "source": [
        "import tensorflow as tf\n",
        "import matplotlib as plt\n",
        "import os\n",
        "from tensorflow.keras import layers\n",
        "from tensorflow.keras import models\n",
        "from tensorflow.keras.datasets import mnist\n",
        "from tensorflow.keras.utils import to_categorical\n",
        "\n",
        "from google.colab import drive\n",
        "drive.mount('/content/gdrive')\n",
        "root_dir = 'gdrive/My Drive/mnist/'\n"
      ],
      "execution_count": null,
      "outputs": []
    },
    {
      "cell_type": "code",
      "metadata": {
        "id": "bj4OoZlhQIqM"
      },
      "source": [
        "# load data\n",
        "(train_images_org, train_labels_org), (test_images_org, ...\n",
        "test_labels_org) = mnist.load_data()\n",
        "# Display the dimensions of the original training set\n",
        "print(train_images_org.shape)\n",
        "# smaller set\n",
        "8\n",
        "a = 10000 # up to 60000\n",
        "b = 1000 # up to 10000\n",
        "train_images = train_images_org[0:a]\n",
        "train_labels = train_labels_org[0:a]\n",
        "test_images = test_images_org[0:b]\n",
        "test_labels = test_labels_org[0:b]\n",
        "# Display the dimensions of the reduced training set (for control)\n",
        "print(train_images.shape)\n",
        "\n",
        "\n",
        "\n",
        "# prepare data sets for Keras, 1st reshape, then normalize\n",
        "train_images = train_images.reshape((a, 28, 28, 1))\n",
        "train_images = train_images.astype('float32') / 255\n",
        "test_images = test_images.reshape((b, 28, 28, 1))\n",
        "test_images = test_images.astype('float32') / 255\n",
        "train_labels = to_categorical(train_labels)\n",
        "test_labels = to_categorical(test_labels)\n",
        "\n",
        "\n",
        "\n",
        "# set the training paramters to RMSprop, and the loss according to ...\n",
        "the problem\n",
        "model.compile(optimizer='rmsprop',\n",
        "loss='categorical_crossentropy',\n",
        "metrics=['accuracy'])\n",
        "# Train the model. Record the results for later analysis\n",
        "history = model.fit(train_images, train_labels, epochs=20, ...\n",
        "batch_size=64)\n",
        "# save the trained model to your desired location\n",
        "save_dir = os.path.join(root_dir, 'mnist_conv_net.h5')\n",
        "model.save(save_dir)\n",
        "\n",
        "\n",
        "\n",
        "# evaluate\n",
        "test_loss, test_acc = model.evaluate(test_images, test_labels)\n",
        "# show the accuracy\n",
        "print('Test accuracy: ', test_acc)"
      ],
      "execution_count": null,
      "outputs": []
    },
    {
      "cell_type": "code",
      "metadata": {
        "id": "oVAuXGz_SVXy"
      },
      "source": [
        "# load the module for visuals\n",
        "import matplotlib.pyplot as plt\n",
        "# get the data from the training results\n",
        "acc = history.history['accuracy']\n",
        "loss = history.history['loss']\n",
        "epochs = range(1, len(acc) + 1)\n",
        "# do the plotting\n",
        "plt.plot(epochs, acc, 'bo', label='Training acc')\n",
        "plt.title('Training accuracy')\n",
        "plt.legend()\n",
        "plt.figure()\n",
        "plt.plot(epochs, loss, 'bo', label='Training loss')\n",
        "plt.title('Training n loss')\n",
        "plt.legend()\n",
        "plt.show()"
      ],
      "execution_count": null,
      "outputs": []
    }
  ]
}